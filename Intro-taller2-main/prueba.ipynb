{
 "cells": [
  {
   "cell_type": "code",
   "execution_count": null,
   "id": "e45fa210",
   "metadata": {},
   "outputs": [],
   "source": [
    "import requests\n",
    "\n",
    "#Nuestras credenciales\n",
    "client_id = \"\"\n",
    "client_secret = \"\"\n",
    "\n",
    "#URL para obtencion de tokens\n",
    "url = \"https://accounts.spotify.com/api/token\"\n",
    "#Headers necesarios para la request\n",
    "headers = {\n",
    "    \"Content-Type\": \"application/x-www-form-urlencoded\"\n",
    "}\n",
    "#Datos a enviar en la request, aqui van las credenciales\n",
    "data = {\n",
    "    \"grant_type\": \"client_credentials\",\n",
    "    \"client_id\": client_id,\n",
    "    \"client_secret\": client_secret\n",
    "}\n",
    "\n",
    "#Hacemos la request\n",
    "response = requests.post(url, headers=headers, data=data)\n",
    "\n",
    "#Guardamos el token\n",
    "access_token = response.json().get(\"access_token\")\n",
    "\n",
    "#Mostramos el resultado\n",
    "print(access_token)"
   ]
  },
  {
   "cell_type": "code",
   "execution_count": 3,
   "id": "45056377",
   "metadata": {},
   "outputs": [
    {
     "name": "stdout",
     "output_type": "stream",
     "text": [
      "{\n",
      "    \"external_urls\": {\n",
      "        \"spotify\": \"https://open.spotify.com/artist/1vCWHaC5f2uS3yhpwWbIA6\"\n",
      "    },\n",
      "    \"followers\": {\n",
      "        \"href\": null,\n",
      "        \"total\": 23530128\n",
      "    },\n",
      "    \"genres\": [\n",
      "        \"edm\"\n",
      "    ],\n",
      "    \"href\": \"https://api.spotify.com/v1/artists/1vCWHaC5f2uS3yhpwWbIA6\",\n",
      "    \"id\": \"1vCWHaC5f2uS3yhpwWbIA6\",\n",
      "    \"images\": [\n",
      "        {\n",
      "            \"url\": \"https://i.scdn.co/image/ab6761610000e5ebae07171f989fb39736674113\",\n",
      "            \"height\": 640,\n",
      "            \"width\": 640\n",
      "        },\n",
      "        {\n",
      "            \"url\": \"https://i.scdn.co/image/ab67616100005174ae07171f989fb39736674113\",\n",
      "            \"height\": 320,\n",
      "            \"width\": 320\n",
      "        },\n",
      "        {\n",
      "            \"url\": \"https://i.scdn.co/image/ab6761610000f178ae07171f989fb39736674113\",\n",
      "            \"height\": 160,\n",
      "            \"width\": 160\n",
      "        }\n",
      "    ],\n",
      "    \"name\": \"Avicii\",\n",
      "    \"popularity\": 84,\n",
      "    \"type\": \"artist\",\n",
      "    \"uri\": \"spotify:artist:1vCWHaC5f2uS3yhpwWbIA6\"\n",
      "}\n"
     ]
    }
   ],
   "source": [
    "#Biblioteca para formatear json, sólo necesaria por claridad\n",
    "import json\n",
    "\n",
    "#Necesitamos la id del artista para poder obtener su información. Para ésto podemos irnos a un artista en spotify, clickear los tres puntos y copiar su id.\n",
    "artist_id = \"1vCWHaC5f2uS3yhpwWbIA6\"\n",
    "url_artist = f\"https://api.spotify.com/v1/artists/{artist_id}\"\n",
    "headers_artist = {\n",
    "    \"Authorization\": f\"Bearer {access_token}\"\n",
    "}\n",
    "\n",
    "response_artist = requests.get(url_artist, headers=headers_artist)\n",
    "\n",
    "print(json.dumps(response_artist.json(), indent=4))"
   ]
  },
  {
   "cell_type": "code",
   "execution_count": 1,
   "id": "d96537e2",
   "metadata": {},
   "outputs": [
    {
     "name": "stdout",
     "output_type": "stream",
     "text": [
      "Collecting requests\n",
      "  Using cached requests-2.32.3-py3-none-any.whl.metadata (4.6 kB)\n",
      "Collecting charset-normalizer<4,>=2 (from requests)\n",
      "  Using cached charset_normalizer-3.4.1-cp313-cp313-win_amd64.whl.metadata (36 kB)\n",
      "Collecting idna<4,>=2.5 (from requests)\n",
      "  Using cached idna-3.10-py3-none-any.whl.metadata (10 kB)\n",
      "Collecting urllib3<3,>=1.21.1 (from requests)\n",
      "  Using cached urllib3-2.4.0-py3-none-any.whl.metadata (6.5 kB)\n",
      "Collecting certifi>=2017.4.17 (from requests)\n",
      "  Using cached certifi-2025.1.31-py3-none-any.whl.metadata (2.5 kB)\n",
      "Using cached requests-2.32.3-py3-none-any.whl (64 kB)\n",
      "Using cached certifi-2025.1.31-py3-none-any.whl (166 kB)\n",
      "Using cached charset_normalizer-3.4.1-cp313-cp313-win_amd64.whl (102 kB)\n",
      "Using cached idna-3.10-py3-none-any.whl (70 kB)\n",
      "Using cached urllib3-2.4.0-py3-none-any.whl (128 kB)\n",
      "Installing collected packages: urllib3, idna, charset-normalizer, certifi, requests\n",
      "Successfully installed certifi-2025.1.31 charset-normalizer-3.4.1 idna-3.10 requests-2.32.3 urllib3-2.4.0\n"
     ]
    }
   ],
   "source": [
    "!pip install requests"
   ]
  }
 ],
 "metadata": {
  "kernelspec": {
   "display_name": "Python 3",
   "language": "python",
   "name": "python3"
  },
  "language_info": {
   "codemirror_mode": {
    "name": "ipython",
    "version": 3
   },
   "file_extension": ".py",
   "mimetype": "text/x-python",
   "name": "python",
   "nbconvert_exporter": "python",
   "pygments_lexer": "ipython3",
   "version": "3.13.3"
  }
 },
 "nbformat": 4,
 "nbformat_minor": 5
}
